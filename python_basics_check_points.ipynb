{
  "nbformat": 4,
  "nbformat_minor": 0,
  "metadata": {
    "colab": {
      "provenance": []
    },
    "kernelspec": {
      "name": "python3",
      "display_name": "Python 3"
    },
    "language_info": {
      "name": "python"
    }
  },
  "cells": [
    {
      "cell_type": "code",
      "execution_count": null,
      "metadata": {
        "id": "BR8vZmTtJfFh"
      },
      "outputs": [],
      "source": [
        "# question no. 1\n",
        "first_name = input(\"pleae, enter your first name:  \")\n",
        "last_name = input(\"pleae, enter your last name:  \")\n",
        "print(last_name + \" \" + first_name)"
      ]
    },
    {
      "cell_type": "code",
      "source": [
        "# question no. 2\n",
        "num = input(\"pleae, enter the number:  \")\n",
        "x = num\n",
        "y = x+x\n",
        "z = x+x+x\n",
        "print(int(x)+int(y)+int(z))"
      ],
      "metadata": {
        "colab": {
          "base_uri": "https://localhost:8080/"
        },
        "id": "uZni_pL7Lw6m",
        "outputId": "4c41ad6c-4beb-42f4-e4ff-368957b05228"
      },
      "execution_count": 55,
      "outputs": [
        {
          "output_type": "stream",
          "name": "stdout",
          "text": [
            "pleae, enter the number:  5\n",
            "615\n"
          ]
        }
      ]
    },
    {
      "cell_type": "code",
      "source": [
        "# question no. 3\n",
        "num = input(\"pleae, enter the number:  \")\n",
        "if int(num) % 2 == 0:\n",
        "  print(num + \"\\tis even\")\n",
        "else:\n",
        "  print(num + \"\\tis odd\")\n"
      ],
      "metadata": {
        "colab": {
          "base_uri": "https://localhost:8080/"
        },
        "id": "_cHQ155qNtH9",
        "outputId": "5e408371-837e-4c14-f2c3-020253dd0642"
      },
      "execution_count": 56,
      "outputs": [
        {
          "output_type": "stream",
          "name": "stdout",
          "text": [
            "pleae, enter the number:  7\n",
            "7\tis odd\n"
          ]
        }
      ]
    },
    {
      "cell_type": "code",
      "source": [
        "# question no. 4\n",
        "for i in range(2000, 3200):\n",
        "  if i % 7 == 0 and i % 5 !=  0:\n",
        "    print(i, end=\"\")"
      ],
      "metadata": {
        "id": "yoT2tOI4SaQK"
      },
      "execution_count": null,
      "outputs": []
    },
    {
      "cell_type": "code",
      "source": [
        "# question no. 5\n",
        "x = int(input(\"\"))\n",
        "result = 1\n",
        "a = 0\n",
        "for i in range(1,x+1):\n",
        "  result = result * i\n",
        "  a = i + 0\n",
        "  print(a)\n",
        "  if i == x:\n",
        "    print(result)\n"
      ],
      "metadata": {
        "id": "Sph_3OAUtbs-"
      },
      "execution_count": null,
      "outputs": []
    },
    {
      "cell_type": "code",
      "source": [
        "# question no. 6\n",
        "w1 = input(\"pleae, enter the word:  \")\n",
        "w2 = \"\"\n",
        "for i in range(len(w1)):\n",
        "    if i % 2 == 0:\n",
        "      w2 = w2 + w1[i]\n",
        "print(w2)"
      ],
      "metadata": {
        "colab": {
          "base_uri": "https://localhost:8080/"
        },
        "id": "qylMzQVZpBet",
        "outputId": "7491c6a8-760d-480d-d088-4c193dfaf5e8"
      },
      "execution_count": 68,
      "outputs": [
        {
          "output_type": "stream",
          "name": "stdout",
          "text": [
            "pleae, enter the word:  shady\n",
            "say\n"
          ]
        }
      ]
    },
    {
      "cell_type": "code",
      "source": [
        "# question no. 6\n",
        "w1 = input(\"pleae, enter the word:  \")\n",
        "for i in range(len(w1)):\n",
        "    if i % 2 == 0:\n",
        "      print(w1[i], end=\"\")"
      ],
      "metadata": {
        "colab": {
          "base_uri": "https://localhost:8080/"
        },
        "id": "77sj04potC4G",
        "outputId": "a9de319c-96a4-45c0-8cc5-12542ed42157"
      },
      "execution_count": 70,
      "outputs": [
        {
          "output_type": "stream",
          "name": "stdout",
          "text": [
            "pleae, enter the word:  shady\n",
            "say"
          ]
        }
      ]
    },
    {
      "cell_type": "code",
      "source": [
        "# question no. 7\n",
        "price = input(\"enter the price:\\t\")\n",
        "if float(price) >= 500:\n",
        "  price_after_discount = float(price) * 0.5\n",
        "  print(\"the price after the discount is\\t\" + str(price_after_discount))\n",
        "elif 200 <= float(price) < 500:\n",
        "  price_after_discount = float(price) * 0.7\n",
        "  print(\"the price after the discount is\\t\" + str(price_after_discount))\n",
        "elif float(price) < 200:\n",
        "  price_after_discount = float(price) * 0.9\n",
        "  print(\"the price after the discount is\\t\" + str(price_after_discount))"
      ],
      "metadata": {
        "colab": {
          "base_uri": "https://localhost:8080/"
        },
        "id": "7ZWbowXEUSAg",
        "outputId": "ae2ccced-4081-450d-9afa-aed9a2be3dcb"
      },
      "execution_count": 40,
      "outputs": [
        {
          "output_type": "stream",
          "name": "stdout",
          "text": [
            "enter the price:\t1000\n",
            "the price after the discount is\t500.0\n"
          ]
        }
      ]
    }
  ]
}