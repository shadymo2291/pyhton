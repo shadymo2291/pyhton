{
  "nbformat": 4,
  "nbformat_minor": 0,
  "metadata": {
    "colab": {
      "provenance": []
    },
    "kernelspec": {
      "name": "python3",
      "display_name": "Python 3"
    },
    "language_info": {
      "name": "python"
    }
  },
  "cells": [
    {
      "cell_type": "code",
      "execution_count": 1,
      "metadata": {
        "colab": {
          "base_uri": "https://localhost:8080/",
          "height": 125
        },
        "id": "MxN0t_aRp35u",
        "outputId": "3818dc01-ebf3-4bf3-a5c3-4d19ba6425ad"
      },
      "outputs": [
        {
          "output_type": "execute_result",
          "data": {
            "text/plain": [
              "'What is Python language?                                                \\nPython is a widely used high-level, general-purpose, interpreted, dynamic programming language.Its design philosophy emphasizes code readability, and its syntax allows programmers to express concepts in fewer lines of code than possible in \\nlanguages such as C++ or Java. \\nPython supports multiple programming paradigms, including object-oriented, imperative and functional programming or procedural styles. It features a dynamic type system and automatic memory management and has a large and comprehensive standard library.The best way we learn anything is by practice and exercise questions. We  have started this section for those (beginner to intermediate) who are familiar with Python.'"
            ],
            "application/vnd.google.colaboratory.intrinsic+json": {
              "type": "string"
            }
          },
          "metadata": {},
          "execution_count": 1
        }
      ],
      "source": [
        "# 1. Write a Python program to read an entire text file.\n",
        "\n",
        "my_file = open(\"/content/python.txt\",'r',encoding = 'utf-8')\n",
        "my_file.read()\n"
      ]
    },
    {
      "cell_type": "code",
      "source": [
        "# 2. Write a Python program to read the first n lines of a file.\n",
        "\n",
        "my_file = open(\"/content/python.txt\",'r',encoding = 'utf-8')\n",
        "content = my_file.readlines()\n",
        "print(\"the first 2 lines are : \")\n",
        "print(content[:2])"
      ],
      "metadata": {
        "colab": {
          "base_uri": "https://localhost:8080/"
        },
        "id": "PwDLjAksrRtc",
        "outputId": "251e4b11-5098-4d11-9120-b2064be1fde1"
      },
      "execution_count": 12,
      "outputs": [
        {
          "output_type": "stream",
          "name": "stdout",
          "text": [
            "the first 2 lines are : \n",
            "['What is Python language?                                                \\n', 'Python is a widely used high-level, general-purpose, interpreted, dynamic programming language.Its design philosophy emphasizes code readability, and its syntax allows programmers to express concepts in fewer lines of code than possible in \\n']\n"
          ]
        }
      ]
    },
    {
      "cell_type": "code",
      "source": [
        "# 3. Write a Python program to read the last n lines of a file.\n",
        "\n",
        "my_file = open(\"/content/python.txt\",'r',encoding = 'utf-8')\n",
        "content = my_file.readlines()\n",
        "print(\"the last 2 lines are : \")\n",
        "print(content[2:])\n"
      ],
      "metadata": {
        "colab": {
          "base_uri": "https://localhost:8080/"
        },
        "id": "TAW9R65Sttme",
        "outputId": "937b9bda-7697-4603-f1c1-f4fc08da06bd"
      },
      "execution_count": 11,
      "outputs": [
        {
          "output_type": "stream",
          "name": "stdout",
          "text": [
            "the last 2 lines are : \n",
            "['languages such as C++ or Java. \\n', 'Python supports multiple programming paradigms, including object-oriented, imperative and functional programming or procedural styles. It features a dynamic type system and automatic memory management and has a large and comprehensive standard library.The best way we learn anything is by practice and exercise questions. We  have started this section for those (beginner to intermediate) who are familiar with Python.']\n"
          ]
        }
      ]
    },
    {
      "cell_type": "code",
      "source": [
        "# 4. Write a Python program that takes a text file as input and returns the number of words of a given text file.\n",
        "\n",
        "my_file = open(\"/content/python.txt\",'r',encoding = 'utf-8')\n",
        "my_data = my_file.read()\n",
        "words = my_data.split()\n",
        "print(\"the no. of words is \",len(words), \"words\")"
      ],
      "metadata": {
        "colab": {
          "base_uri": "https://localhost:8080/"
        },
        "id": "MVMNoVqNuKE9",
        "outputId": "bd72c20d-5799-443b-f3f6-b1dfd814d1d4"
      },
      "execution_count": 16,
      "outputs": [
        {
          "output_type": "stream",
          "name": "stdout",
          "text": [
            "the no. of words is  100 words\n"
          ]
        }
      ]
    },
    {
      "cell_type": "code",
      "source": [
        "# 5. (Bonus) Write a Python program to read the last n lines of a file.\n",
        "\n",
        "my_file = open(\"/content/python.txt\",'r',encoding = 'utf-8')\n",
        "content = my_file.readlines()\n",
        "print(\"the last 2 lines are : \")\n",
        "print(content[2:])"
      ],
      "metadata": {
        "colab": {
          "base_uri": "https://localhost:8080/"
        },
        "id": "folrrJa9wcF-",
        "outputId": "0e5d3544-457f-4831-d218-9543c669df06"
      },
      "execution_count": 17,
      "outputs": [
        {
          "output_type": "stream",
          "name": "stdout",
          "text": [
            "the last 2 lines are : \n",
            "['languages such as C++ or Java. \\n', 'Python supports multiple programming paradigms, including object-oriented, imperative and functional programming or procedural styles. It features a dynamic type system and automatic memory management and has a large and comprehensive standard library.The best way we learn anything is by practice and exercise questions. We  have started this section for those (beginner to intermediate) who are familiar with Python.']\n"
          ]
        }
      ]
    }
  ]
}