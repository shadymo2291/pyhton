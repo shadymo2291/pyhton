{
  "nbformat": 4,
  "nbformat_minor": 0,
  "metadata": {
    "colab": {
      "provenance": []
    },
    "kernelspec": {
      "name": "python3",
      "display_name": "Python 3"
    },
    "language_info": {
      "name": "python"
    }
  },
  "cells": [
    {
      "cell_type": "code",
      "execution_count": 4,
      "metadata": {
        "id": "ADbWbDRXWSeq",
        "colab": {
          "base_uri": "https://localhost:8080/"
        },
        "outputId": "2b37299d-5cee-4ed6-8cd2-050e18402434"
      },
      "outputs": [
        {
          "output_type": "stream",
          "name": "stdout",
          "text": [
            "(1, 2, 3)\n"
          ]
        }
      ],
      "source": [
        "# quition 1:\n",
        "# Write a Python class named Point3D defined by x, y, and z.\n",
        "# Define a method that returns (x, y ,z). \n",
        "# This tells Python to represent this object in the following format: (x, y, z). \n",
        "# Then create a variable named my_point containing a new instance of Point3D with x=1, y=2, and z=3 and print it.\n",
        "class Point3D:\n",
        "  def __init__(self, x, y, z):\n",
        "    self.x = x\n",
        "    self.y = y\n",
        "    self.z = z\n",
        "\n",
        "my_point = Point3D(1, 2, 3)\n",
        "z = tuple((my_point.x,my_point.y,my_point.z))\n",
        "print(z)"
      ]
    },
    {
      "cell_type": "code",
      "source": [
        "# quition 2:\n",
        "# Write a Python class named Rectangle constructed by a length and width. \n",
        "# Define two methods, area and perimeter, which will compute the area and the perimeter of the rectangle. \n",
        "# Then create a variable named my_rectangle containing a new instance of Rectangle with width=3 and length = 4 \n",
        "# and compute both area and perimeter ( the area is expected to be 3*4=12 and perimeter 2*(3+4)=14).\n",
        "\n",
        "class Rectangle:\n",
        "  def __init__(self, length, width):\n",
        "    self.length = length\n",
        "    self.width = width\n",
        "\n",
        "  def area(self):\n",
        "    return str(self.length * self.width)\n",
        "\n",
        "  def perimeter(self):\n",
        "    return str(2 * (self.length + self.width))\n",
        "\n",
        "my_rectangle = Rectangle(4 , 3)\n",
        "\n",
        "print(\"the area of the rectangle is  \" + my_rectangle.area())\n",
        "print(\"the perimeter of the rectangle is  \" + my_rectangle.perimeter())"
      ],
      "metadata": {
        "colab": {
          "base_uri": "https://localhost:8080/"
        },
        "id": "KMuz98GTWlrB",
        "outputId": "a40a914d-dca3-4ce7-8929-36b27e685295"
      },
      "execution_count": null,
      "outputs": [
        {
          "output_type": "stream",
          "name": "stdout",
          "text": [
            "the area of the rectangle is  12\n",
            "the perimeter of the rectangle is  14\n"
          ]
        }
      ]
    },
    {
      "cell_type": "code",
      "source": [
        "# quition 3:\n",
        "# Write a Python  class named Circle constructed by its center O and radius r.\n",
        "# Define two methods, area and perimeter, which will compute the area and the perimeter of the circle,\n",
        "# and is Inside() method which allows you to test whether a point A(x, y) belongs to the circle C(O, r) or not.\n",
        "import math\n",
        "class Circle:\n",
        "  # suppose the center of the circle at the point (0,0)\n",
        "  Circle_x = 0\n",
        "  Circle_y = 0\n",
        "\n",
        "  def __init__(self, o, r):\n",
        "    self.o = o\n",
        "    self.r = r\n",
        "\n",
        "  def area(self):\n",
        "    return str(math.pi * self.r * self.r) \n",
        "  def perimeter(self):\n",
        "    return str(2 * math.pi * self.r )\n",
        "\n",
        "  def in_side(self, x, y):\n",
        "    self.x = x\n",
        "    self.y = y\n",
        "    distance = math.sqrt(((x - self.Circle_x)*(x - self.Circle_x))+((y - self.Circle_y)*(y - self.Circle_y)))\n",
        "    if distance == self.r:\n",
        "      print(\"the point (\"+str(x)+\",\"+str(y)+\") is on the circle\")\n",
        "    elif distance > self.r:\n",
        "      print(\"the point (\"+str(x)+\",\"+str(y)+\") is outside the circle\")\n",
        "    else:\n",
        "      print(\"the point (\"+str(x)+\",\"+str(y)+\") is inside the circle\")\n",
        "\n",
        "my_circle = Circle(0, 5)\n",
        "\n",
        "print(\"the area of the Circle is  \" + my_circle.area())\n",
        "print(\"the perimeter of the Circle is  \" + my_circle.perimeter())\n",
        "\n",
        "my_circle.in_side(1,1)\n",
        "my_circle.in_side(4,4)\n",
        "my_circle.in_side(4,3)\n"
      ],
      "metadata": {
        "colab": {
          "base_uri": "https://localhost:8080/"
        },
        "id": "bMfxsEzlaTmc",
        "outputId": "2acdc67b-3e14-4e25-9588-a003408fa93b"
      },
      "execution_count": null,
      "outputs": [
        {
          "output_type": "stream",
          "name": "stdout",
          "text": [
            "the area of the Circle is  78.53981633974483\n",
            "the perimeter of the Circle is  31.41592653589793\n",
            "the point (1,1) is inside the circle\n",
            "the point (4,4) is outside the circle\n",
            "the point (4,3) is on the circle\n"
          ]
        }
      ]
    },
    {
      "cell_type": "code",
      "source": [
        "# quition 4:\n",
        "# Suppose we want to model a bank account with support for deposit and withdraw operations. \n",
        "# Let’s create a Python class named Bank defined by its balance. \n",
        "# Define two methods, deposit and withdraw, to compute the new amount of each operation.\n",
        "\n",
        "class Bank:\n",
        "\n",
        "  def __init__(self, balance):\n",
        "    self.balance = balance\n",
        "\n",
        "  def deposit(self, d):\n",
        "    self.d = d\n",
        "    self.balance = self.balance + self.d\n",
        "    return str(self.balance)\n",
        "\n",
        "  def withdraw(self, w):\n",
        "    self.w = w\n",
        "    if w > self.balance:\n",
        "      print(\"your do not have enough money\")\n",
        "    else:\n",
        "      self.balance = self.balance - self.w\n",
        "      return str(self.balance)\n",
        "\n",
        "my_balance = Bank(400)\n",
        "# f = str(my_balance.tarnsaction)\n",
        "print(my_balance.deposit(400))\n",
        "print(my_balance.withdraw(500))"
      ],
      "metadata": {
        "colab": {
          "base_uri": "https://localhost:8080/"
        },
        "id": "cPMWmTT6kKIQ",
        "outputId": "db35ca0e-5808-4780-f9ff-23a3894b3472"
      },
      "execution_count": 10,
      "outputs": [
        {
          "output_type": "stream",
          "name": "stdout",
          "text": [
            "800\n",
            "300\n"
          ]
        }
      ]
    }
  ]
}