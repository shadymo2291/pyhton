{
  "nbformat": 4,
  "nbformat_minor": 0,
  "metadata": {
    "colab": {
      "provenance": []
    },
    "kernelspec": {
      "name": "python3",
      "display_name": "Python 3"
    },
    "language_info": {
      "name": "python"
    }
  },
  "cells": [
    {
      "cell_type": "code",
      "execution_count": null,
      "metadata": {
        "id": "ADbWbDRXWSeq",
        "colab": {
          "base_uri": "https://localhost:8080/"
        },
        "outputId": "d1957f21-3868-422a-93b9-0dbe03216463"
      },
      "outputs": [
        {
          "output_type": "stream",
          "name": "stdout",
          "text": [
            "1\n",
            "2\n",
            "3\n"
          ]
        }
      ],
      "source": [
        "# quition 1:\n",
        "# Write a Python class named Point3D defined by x, y, and z.\n",
        "# Define a method that returns (x, y ,z). \n",
        "# This tells Python to represent this object in the following format: (x, y, z). \n",
        "# Then create a variable named my_point containing a new instance of Point3D with x=1, y=2, and z=3 and print it.\n",
        "class Point3D:\n",
        "  def __init__(self, x, y, z):\n",
        "    self.x = x\n",
        "    self.y = y\n",
        "    self.z = z\n",
        "\n",
        "my_point = Point3D(1, 2, 3)\n",
        "print(my_point.x)\n",
        "print(my_point.y)\n",
        "print(my_point.z)"
      ]
    },
    {
      "cell_type": "code",
      "source": [
        "# quition 2:\n",
        "# Write a Python class named Rectangle constructed by a length and width. \n",
        "# Define two methods, area and perimeter, which will compute the area and the perimeter of the rectangle. \n",
        "# Then create a variable named my_rectangle containing a new instance of Rectangle with width=3 and length = 4 \n",
        "# and compute both area and perimeter ( the area is expected to be 3*4=12 and perimeter 2*(3+4)=14).\n",
        "\n",
        "class Rectangle:\n",
        "  def __init__(self, length, width):\n",
        "    self.length = length\n",
        "    self.width = width\n",
        "\n",
        "  def area(self):\n",
        "    return str(self.length * self.width)\n",
        "\n",
        "  def perimeter(self):\n",
        "    return str(2 * (self.length + self.width))\n",
        "\n",
        "my_rectangle = Rectangle(4 , 3)\n",
        "\n",
        "print(\"the area of the rectangle is  \" + my_rectangle.area())\n",
        "print(\"the perimeter of the rectangle is  \" + my_rectangle.perimeter())"
      ],
      "metadata": {
        "colab": {
          "base_uri": "https://localhost:8080/"
        },
        "id": "KMuz98GTWlrB",
        "outputId": "a40a914d-dca3-4ce7-8929-36b27e685295"
      },
      "execution_count": null,
      "outputs": [
        {
          "output_type": "stream",
          "name": "stdout",
          "text": [
            "the area of the rectangle is  12\n",
            "the perimeter of the rectangle is  14\n"
          ]
        }
      ]
    },
    {
      "cell_type": "code",
      "source": [
        "# quition 3:\n",
        "# Write a Python  class named Circle constructed by its center O and radius r.\n",
        "# Define two methods, area and perimeter, which will compute the area and the perimeter of the circle,\n",
        "# and is Inside() method which allows you to test whether a point A(x, y) belongs to the circle C(O, r) or not.\n",
        "import math\n",
        "class Circle:\n",
        "  # suppose the center of the circle at the point (0,0)\n",
        "  Circle_x = 0\n",
        "  Circle_y = 0\n",
        "\n",
        "  def __init__(self, o, r):\n",
        "    self.o = o\n",
        "    self.r = r\n",
        "\n",
        "  def area(self):\n",
        "    return str(math.pi * self.r * self.r) \n",
        "  def perimeter(self):\n",
        "    return str(2 * math.pi * self.r )\n",
        "\n",
        "  def in_side(self, x, y):\n",
        "    self.x = x\n",
        "    self.y = y\n",
        "    distance = math.sqrt(((x - self.Circle_x)*(x - self.Circle_x))+((y - self.Circle_y)*(y - self.Circle_y)))\n",
        "    if distance == self.r:\n",
        "      print(\"the point on the circl\")\n",
        "    elif distance > self.r:\n",
        "      print(\"the point outside the circl\")\n",
        "    else:\n",
        "      print(\"the point inside the circl\")\n",
        "\n",
        "my_circle = Circle(0, 5)\n",
        "\n",
        "print(\"the area of the Circle is  \" + my_circle.area())\n",
        "print(\"the perimeter of the Circle is  \" + my_circle.perimeter())\n",
        "\n",
        "my_circle.in_side(1,1)\n",
        "my_circle.in_side(4,4)\n",
        "my_circle.in_side(4,3)\n"
      ],
      "metadata": {
        "colab": {
          "base_uri": "https://localhost:8080/"
        },
        "id": "bMfxsEzlaTmc",
        "outputId": "7675e422-4efc-426e-b988-e4cd9ce7ff31"
      },
      "execution_count": 11,
      "outputs": [
        {
          "output_type": "stream",
          "name": "stdout",
          "text": [
            "the area of the Circle is  78.53981633974483\n",
            "the perimeter of the Circle is  31.41592653589793\n",
            "the point inside the circl\n",
            "the point outside the circl\n",
            "the point on the circl\n"
          ]
        }
      ]
    },
    {
      "cell_type": "code",
      "source": [
        "# quition 4:\n",
        "# Suppose we want to model a bank account with support for deposit and withdraw operations. \n",
        "# Let’s create a Python class named Bank defined by its balance. \n",
        "# Define two methods, deposit and withdraw, to compute the new amount of each operation.\n",
        "\n",
        "class Bank:\n",
        "  balance = float(input(\"enter your bank balance:\\t\"))\n",
        "\n",
        "  def __init__(self, tarnsaction):\n",
        "    self.tarnsaction = tarnsaction\n",
        "\n",
        "  def deposit(self):\n",
        "     \n",
        "     return str(self.balance + self.tarnsaction)\n",
        "\n",
        "  def withdraw(self):\n",
        "     \n",
        "     return str(self.balance - self.tarnsaction)\n",
        "\n",
        "my_balance = Bank(400)\n",
        "# f = str(my_balance.tarnsaction)\n",
        "print(\"my balance after deposit \"+str(my_balance.tarnsaction)+\" is : \\t\"+my_balance.deposit())\n",
        "print(\"my balance after withdraw \"+str(my_balance.tarnsaction)+\" is : \\t\"+my_balance.withdraw())"
      ],
      "metadata": {
        "colab": {
          "base_uri": "https://localhost:8080/"
        },
        "id": "cPMWmTT6kKIQ",
        "outputId": "4b33bcf0-98e0-4e22-eb5f-d3e6d5ef9e75"
      },
      "execution_count": 29,
      "outputs": [
        {
          "output_type": "stream",
          "name": "stdout",
          "text": [
            "enter your bank balance:\t3000\n",
            "my balance after deposit 400 is : \t3400.0\n",
            "my balance after withdraw 400 is : \t2600.0\n"
          ]
        }
      ]
    }
  ]
}