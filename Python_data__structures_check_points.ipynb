{
  "nbformat": 4,
  "nbformat_minor": 0,
  "metadata": {
    "colab": {
      "provenance": []
    },
    "kernelspec": {
      "name": "python3",
      "display_name": "Python 3"
    },
    "language_info": {
      "name": "python"
    }
  },
  "cells": [
    {
      "cell_type": "code",
      "source": [
        "# Q 1\n",
        "import numpy\n",
        "x = [2, 3, 6]\n",
        "res = numpy.prod(x)\n",
        "print(res)\n",
        "\n",
        "# 36"
      ],
      "metadata": {
        "id": "2XTLMjmBvym7",
        "colab": {
          "base_uri": "https://localhost:8080/"
        },
        "outputId": "08538e0e-19e9-444a-8803-c79f9a15f4ba"
      },
      "execution_count": null,
      "outputs": [
        {
          "output_type": "stream",
          "name": "stdout",
          "text": [
            "36\n"
          ]
        }
      ]
    },
    {
      "cell_type": "code",
      "source": [
        "# Q 1\n",
        "x = [2, 3, 6]\n",
        "res = 1\n",
        "for i in x:\n",
        "  res = res * i\n",
        "print(res)\n",
        "\n",
        "# 36"
      ],
      "metadata": {
        "colab": {
          "base_uri": "https://localhost:8080/"
        },
        "id": "6g46y1ciGSft",
        "outputId": "86b2639a-a448-4c5d-e9a7-de3a5c363166"
      },
      "execution_count": null,
      "outputs": [
        {
          "output_type": "stream",
          "name": "stdout",
          "text": [
            "36\n"
          ]
        }
      ]
    },
    {
      "cell_type": "code",
      "source": [
        "# Q 2\n",
        "tuple1 = [(2, 5), (1, 2), (4, 4), (2, 3), (2, 1)]\n",
        "list1 = []\n",
        "list2 = []\n",
        "for t in tuple1:\n",
        "    list1.append(t[1],)\n",
        "list1.sort()\n",
        "for q in list1:\n",
        "    for l in tuple1:\n",
        "        if q == int(l[1],):\n",
        "            list2.append(l)\n",
        "print(list2)\n",
        "\n",
        "# [(2, 1), (1, 2), (2, 3), (4, 4), (2, 5)]"
      ],
      "metadata": {
        "colab": {
          "base_uri": "https://localhost:8080/"
        },
        "id": "wbHxrOgVfIcW",
        "outputId": "3dfe912f-3b58-46fb-93cb-695f7190346a"
      },
      "execution_count": null,
      "outputs": [
        {
          "output_type": "stream",
          "name": "stdout",
          "text": [
            "[(2, 1), (1, 2), (2, 3), (4, 4), (2, 5)]\n"
          ]
        }
      ]
    },
    {
      "cell_type": "code",
      "source": [
        "# Q 3\n",
        "d1 = {'a': 100, 'b': 200, 'c': 300}\n",
        "d2 = {'a': 300, 'b': 200, 'd': 400}\n",
        "d3 = {\"a\": \"\", \"b\": \"\"}\n",
        "d3[\"a\"] = d1[\"a\"] + d2[\"a\"]\n",
        "d3[\"b\"] = d1[\"b\"] + d2[\"b\"]\n",
        "d3.update({'d': 400, 'c': 300})\n",
        "print(d3)\n",
        "\n",
        "# {'a': 400, 'b': 400, 'd': 400, 'c': 300}"
      ],
      "metadata": {
        "colab": {
          "base_uri": "https://localhost:8080/"
        },
        "id": "XvhDCe7-KYVM",
        "outputId": "9eba109f-ca33-4d9b-816b-b029ee1be1c0"
      },
      "execution_count": null,
      "outputs": [
        {
          "output_type": "stream",
          "name": "stdout",
          "text": [
            "{'a': 400, 'b': 400, 'd': 400, 'c': 300}\n"
          ]
        }
      ]
    },
    {
      "cell_type": "code",
      "source": [
        "# Q 3\n",
        "d1 = {'a': 100, 'b': 200, 'c': 300}\n",
        "d2 = {'a': 300, 'b': 200, 'd': 400}\n",
        "d3 = {}\n",
        "d3.update({\"a\" : d1[\"a\"] + d2[\"a\"], \"b\" : d1[\"b\"] + d2[\"b\"], 'd': 400, 'c': 300})\n",
        "print(d3)\n",
        "\n",
        "# {'a': 400, 'b': 400, 'd': 400, 'c': 300}"
      ],
      "metadata": {
        "colab": {
          "base_uri": "https://localhost:8080/"
        },
        "id": "XgfNoglDE_f0",
        "outputId": "10f81195-0a3d-489b-cfda-ea84c2db013e"
      },
      "execution_count": null,
      "outputs": [
        {
          "output_type": "stream",
          "name": "stdout",
          "text": [
            "{'a': 400, 'b': 400, 'd': 400, 'c': 300}\n"
          ]
        }
      ]
    },
    {
      "cell_type": "code",
      "source": [
        "# Q 4\n",
        "n = int(input())\n",
        "myset = {}\n",
        "i = 0\n",
        "while i < n:\n",
        "  i = i +1\n",
        "  myset.update({i : i*i})\n",
        "print(myset)\n",
        "\n",
        "# {1: 1, 2: 4, 3: 9, 4: 16, 5: 25, 6: 36, 7: 49, 8: 64}"
      ],
      "metadata": {
        "colab": {
          "base_uri": "https://localhost:8080/"
        },
        "id": "w52dKpOVCID5",
        "outputId": "136f05fc-4309-43f9-d9b7-b4e96a677016"
      },
      "execution_count": null,
      "outputs": [
        {
          "output_type": "stream",
          "name": "stdout",
          "text": [
            "8\n",
            "{1: 1, 2: 4, 3: 9, 4: 16, 5: 25, 6: 36, 7: 49, 8: 64}\n"
          ]
        }
      ]
    },
    {
      "cell_type": "code",
      "source": [
        "# Q 5\n",
        "list0 = [('item1', '12.20'), ('item2', '15.10'), ('item3', '24.5')]\n",
        "list1 = []\n",
        "list2 = []\n",
        "for x in list0:\n",
        "    list1.append(float(x[1]),)\n",
        "list1.sort(reverse=True)\n",
        "for n in list1:\n",
        "    for q in list0:\n",
        "        if n == float(q[1],):\n",
        "            list2.append(q)\n",
        "print(list2)\n",
        "\n",
        "# [('item3', '24.5'), ('item2', '15.10'), ('item1', '12.20')]"
      ],
      "metadata": {
        "colab": {
          "base_uri": "https://localhost:8080/"
        },
        "id": "VnIPlbsucewp",
        "outputId": "f5f215eb-025c-412c-b9e8-3d395a4c74c0"
      },
      "execution_count": null,
      "outputs": [
        {
          "output_type": "stream",
          "name": "stdout",
          "text": [
            "[('item3', '24.5'), ('item2', '15.10'), ('item1', '12.20')]\n"
          ]
        }
      ]
    }
  ]
}