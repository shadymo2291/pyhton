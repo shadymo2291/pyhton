{
  "nbformat": 4,
  "nbformat_minor": 0,
  "metadata": {
    "colab": {
      "provenance": []
    },
    "kernelspec": {
      "name": "python3",
      "display_name": "Python 3"
    },
    "language_info": {
      "name": "python"
    }
  },
  "cells": [
    {
      "cell_type": "code",
      "execution_count": 1,
      "metadata": {
        "colab": {
          "base_uri": "https://localhost:8080/"
        },
        "id": "hlnLteDrv3UX",
        "outputId": "0a0f6b3c-e573-47ae-e86d-37a4b49bf076"
      },
      "outputs": [
        {
          "output_type": "stream",
          "name": "stdout",
          "text": [
            "35\n"
          ]
        }
      ],
      "source": [
        "# Question   1\n",
        "\n",
        "def max_num(*a): # you can check any number of parameters\n",
        "    return a\n",
        "\n",
        "x = max(max_num(20, 35, 19))\n",
        "print(x)\n",
        "\n"
      ]
    },
    {
      "cell_type": "code",
      "source": [
        "# Question   1\n",
        "\n",
        "def max_num(*a): # you can check any number of parameters\n",
        "    return a\n",
        "\n",
        "x = list(max_num(20, 35, 19, 100, 3, 21, 66))\n",
        "x.sort()\n",
        "print(x[-1])\n",
        "\n"
      ],
      "metadata": {
        "colab": {
          "base_uri": "https://localhost:8080/"
        },
        "id": "0MH2Y6OhyJcv",
        "outputId": "249b5d99-c71d-46b3-dd89-bf560e47d4bb"
      },
      "execution_count": 2,
      "outputs": [
        {
          "output_type": "stream",
          "name": "stdout",
          "text": [
            "100\n"
          ]
        }
      ]
    },
    {
      "cell_type": "code",
      "source": [
        "# Question   2\n",
        "\n",
        "def calculation(a, b):\n",
        "  add = a + b\n",
        "  sub = a - b\n",
        "  return str(add), str(sub)\n",
        "\n",
        "fun1 = \",\".join(calculation(40, 10))\n",
        "print(fun1)\n",
        "\n",
        "# Expected result: 50,30"
      ],
      "metadata": {
        "colab": {
          "base_uri": "https://localhost:8080/"
        },
        "id": "AxtftugXytpr",
        "outputId": "c36828aa-404b-48c0-9e14-d5ecf559783f"
      },
      "execution_count": 3,
      "outputs": [
        {
          "output_type": "stream",
          "name": "stdout",
          "text": [
            "50,30\n"
          ]
        }
      ]
    },
    {
      "cell_type": "code",
      "source": [
        "# Question   2\n",
        "\n",
        "add = lambda a,b : a+b\n",
        "sub = lambda a,b : a-b\n",
        "\n",
        "x = str(add(40, 10)), str(sub(40, 10))\n",
        "result = \",\".join(x)\n",
        "print(result)\n",
        "\n",
        "# Expected result: 50,30"
      ],
      "metadata": {
        "colab": {
          "base_uri": "https://localhost:8080/"
        },
        "id": "n_8NrfV_8-K_",
        "outputId": "828eb89c-92f4-4ee7-e580-2c1d305cc8fe"
      },
      "execution_count": 4,
      "outputs": [
        {
          "output_type": "stream",
          "name": "stdout",
          "text": [
            "50,30\n"
          ]
        }
      ]
    },
    {
      "cell_type": "code",
      "source": [
        "# Question   3\n",
        "\n",
        "# point 1: Write a function that sums the elements of a list of integers.\n",
        "\n",
        "def sum(*a):      \n",
        "  sum_list = []\n",
        "  for i in a:\n",
        "    sum_list.append(i)\n",
        "  print(sum_list)\n",
        "  res_sum = 0\n",
        "  for r in sum_list:\n",
        "    res_sum = res_sum + r\n",
        "  return res_sum\n",
        "\n",
        "print(sum(2,4,6,8))\n",
        "\n"
      ],
      "metadata": {
        "colab": {
          "base_uri": "https://localhost:8080/"
        },
        "id": "kyfAwwvf0p8F",
        "outputId": "0cb31b9a-4257-47cc-9b6a-f31cca73c3b6"
      },
      "execution_count": 5,
      "outputs": [
        {
          "output_type": "stream",
          "name": "stdout",
          "text": [
            "[2, 4, 6, 8]\n",
            "20\n"
          ]
        }
      ]
    },
    {
      "cell_type": "code",
      "source": [
        "# Question   3\n",
        "\n",
        "# point 2: Write a function that multiplies the elements of an integer list.\n",
        "\n",
        "\n",
        "def multiply(*a):       \n",
        "  multiply_list = []\n",
        "  for i in a:\n",
        "    multiply_list.append(i)\n",
        "  print(multiply_list)\n",
        "  res_multiply = 1\n",
        "  for r in multiply_list:\n",
        "    res_multiply = res_multiply * r\n",
        "  return res_multiply\n",
        "\n",
        "print(multiply(2,4,6,8))\n"
      ],
      "metadata": {
        "colab": {
          "base_uri": "https://localhost:8080/"
        },
        "id": "sZzdrGgQKDf4",
        "outputId": "d904628b-6ce8-49b5-80a9-1bf0b99464d5"
      },
      "execution_count": 6,
      "outputs": [
        {
          "output_type": "stream",
          "name": "stdout",
          "text": [
            "[2, 4, 6, 8]\n",
            "384\n"
          ]
        }
      ]
    },
    {
      "cell_type": "code",
      "source": [
        "# Question   3\n",
        "\n",
        "# point 3 : Use the two functions to sum the elements whose position is an even number (0,2,4…) and multiply the rest.\n",
        "\n",
        "z = input(\"inter the  numbers separated with \\\",\\\"\")     \n",
        "\n",
        "li = z.split(\",\")    # convert the string of numbers separated with \",\" into a main list\n",
        "print(li)\n",
        "\n",
        "list_mul = []\n",
        "\n",
        "list_sum = []\n",
        "\n",
        "for n in range(len(li)):\n",
        "    if n % 2 == 0:\n",
        "        list_sum.append(li[int(n)])\n",
        "    else:\n",
        "        list_mul.append(li[int(n)])\n",
        "\n",
        "print(list_sum)      # list with the even index to sum\n",
        "print(list_mul)      # list with the odd index to multiply\n",
        "\n",
        "\n",
        "def sum_func(list_sum):\n",
        "    res_sum = 0\n",
        "    for x in list_sum:\n",
        "        res_sum = res_sum + int(x)\n",
        "    print(res_sum)\n",
        "\n",
        "\n",
        "sum_func(list_sum)\n",
        "\n",
        "\n",
        "def mul_func(list_mul):\n",
        "    res_mul = 1\n",
        "    for i in list_mul:\n",
        "        res_mul = res_mul * int(i)\n",
        "    print(res_mul)\n",
        "\n",
        "\n",
        "mul_func(list_mul)\n"
      ],
      "metadata": {
        "colab": {
          "base_uri": "https://localhost:8080/"
        },
        "id": "GBV6e7ckKQ0e",
        "outputId": "4b317ac9-6390-49e1-c09f-75f3e9074f1c"
      },
      "execution_count": 7,
      "outputs": [
        {
          "output_type": "stream",
          "name": "stdout",
          "text": [
            "2,3,4,5,6,7,8,9\n",
            "['2', '3', '4', '5', '6', '7', '8', '9']\n",
            "['2', '4', '6', '8']\n",
            "['3', '5', '7', '9']\n",
            "20\n",
            "945\n"
          ]
        }
      ]
    },
    {
      "cell_type": "code",
      "source": [
        "# Question   4\n",
        "\n",
        "colors = \"green-red-yellow-black-white\"\n",
        "x = colors.split(\"-\")                # split function is used to convert (string) to (list)\n",
        "x.sort()\n",
        "result = \"-\".join(tuple(x))         # join method is used to convert (tuple) items to (str)\n",
        "print(result)\n",
        "\n",
        "# Expected result: black-green-red-white-yellow"
      ],
      "metadata": {
        "colab": {
          "base_uri": "https://localhost:8080/"
        },
        "id": "LT8g524kGMuS",
        "outputId": "15b2c596-c1c6-46e4-f9fd-07be07f0fb49"
      },
      "execution_count": 8,
      "outputs": [
        {
          "output_type": "stream",
          "name": "stdout",
          "text": [
            "black-green-red-white-yellow\n"
          ]
        }
      ]
    },
    {
      "cell_type": "code",
      "source": [
        "# Question   5\n",
        "\n",
        "def func1(D, C=50, H=30):\n",
        "    import math\n",
        "    Q = math.sqrt((2 * C * int(D))/H)\n",
        "    return str(math.floor(Q))\n",
        "\n",
        "\n",
        "nums_tuple = tuple(input().split(\",\"))\n",
        "\n",
        "x = map(func1, nums_tuple)      # use map function to iterate the same function to many parameters\n",
        "\n",
        "v = \",\".join(tuple(x))          # use join method to convert tuple to string (as required)\n",
        "\n",
        "print(v)\n",
        "\n"
      ],
      "metadata": {
        "colab": {
          "base_uri": "https://localhost:8080/"
        },
        "id": "XURQ_4m5G10s",
        "outputId": "5ca1ab5e-04d9-44f3-8d4d-a1af6e884c0b"
      },
      "execution_count": 10,
      "outputs": [
        {
          "output_type": "stream",
          "name": "stdout",
          "text": [
            "100,150,180\n",
            "18,22,24\n"
          ]
        }
      ]
    }
  ]
}