{
  "nbformat": 4,
  "nbformat_minor": 0,
  "metadata": {
    "colab": {
      "provenance": []
    },
    "kernelspec": {
      "name": "python3",
      "display_name": "Python 3"
    },
    "language_info": {
      "name": "python"
    }
  },
  "cells": [
    {
      "cell_type": "code",
      "execution_count": 5,
      "metadata": {
        "colab": {
          "base_uri": "https://localhost:8080/"
        },
        "id": "76XWE94_FVHB",
        "outputId": "c7136ddf-5903-4200-8900-ed6a4a1eb3bd"
      },
      "outputs": [
        {
          "output_type": "stream",
          "name": "stdout",
          "text": [
            "please enter your name: ahmed\n",
            "please enter your second name: alaa\n",
            "your relasionship with the second person is :  Friends\n"
          ]
        }
      ],
      "source": [
        "def flames(n1,n2):\n",
        "  for i in n1:\n",
        "    for j in n2:\n",
        "      if i == j:\n",
        "        n1 = n1.replace(i,\"\",1)\n",
        "        n2 = n1.replace(j,\"\",1)\n",
        "\n",
        "  n3 = len(n1+n2)\n",
        "  return n3\n",
        "\n",
        "x = input(\"please enter your name: \")\n",
        "y = input(\"please enter your second name: \")\n",
        "\n",
        "z = flames(x,y)\n",
        "\n",
        "if z >= 0:\n",
        "  flamelist = [\"Friends\", \"Love\", \"Affection\", \"Marriage\", \"Enemy\", \"Siblings\"]\n",
        "  while len(flamelist) > 1:\n",
        "    count = z % len(flamelist)\n",
        "    split = count - 1\n",
        "    if split >= 0:\n",
        "      right = flamelist[split+1:]\n",
        "      left = flamelist[:split]\n",
        "      flamelist = right + left\n",
        "      print(flamelist)\n",
        "    else:\n",
        "      flamelist = flamelist[:len(flamelist)-1]\n",
        "  print(\"your relasionship with the second person is : \", flamelist[0])\n",
        "\n",
        "else:\n",
        "  print(\"enter other names\")\n"
      ]
    }
  ]
}