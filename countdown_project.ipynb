{
  "nbformat": 4,
  "nbformat_minor": 0,
  "metadata": {
    "colab": {
      "provenance": []
    },
    "kernelspec": {
      "name": "python3",
      "display_name": "Python 3"
    },
    "language_info": {
      "name": "python"
    }
  },
  "cells": [
    {
      "cell_type": "code",
      "execution_count": 4,
      "metadata": {
        "colab": {
          "base_uri": "https://localhost:8080/"
        },
        "id": "kePABv6Pwu_O",
        "outputId": "7681675c-e403-40de-96a9-5647d7b05e08"
      },
      "outputs": [
        {
          "output_type": "stream",
          "name": "stdout",
          "text": [
            "Enter the time in seconds: 4\n",
            "Fire in the hole\n"
          ]
        }
      ],
      "source": [
        "\n",
        "import time\n",
        "\n",
        "def countdown(t):\n",
        "    \n",
        "    while t:\n",
        "        mins, secs = divmod(t, 60)\n",
        "        timer = '{:02d}:{:02d}'.format(mins, secs)\n",
        "        print(timer, end=\"\\r\")\n",
        "        time.sleep(1)\n",
        "        t -= 1\n",
        "      \n",
        "    print('Fire in the hole')\n",
        "  \n",
        "  \n",
        "t = input(\"Enter the time in seconds: \")\n",
        "  \n",
        "countdown(int(t))"
      ]
    }
  ]
}