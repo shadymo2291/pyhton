{
  "nbformat": 4,
  "nbformat_minor": 0,
  "metadata": {
    "colab": {
      "provenance": []
    },
    "kernelspec": {
      "name": "python3",
      "display_name": "Python 3"
    },
    "language_info": {
      "name": "python"
    }
  },
  "cells": [
    {
      "cell_type": "code",
      "execution_count": null,
      "metadata": {
        "colab": {
          "base_uri": "https://localhost:8080/"
        },
        "id": "hJ7kClgYjifC",
        "outputId": "06911852-c2fb-4f3f-c006-eb15bdce1977"
      },
      "outputs": [
        {
          "output_type": "stream",
          "name": "stdout",
          "text": [
            "['1' 'sh' '4' 'True']\n",
            "<U21\n",
            "['1', 'sh', '4', 'True']\n",
            "<class 'list'>\n"
          ]
        }
      ],
      "source": [
        "# Question 1:\n",
        "# Write a Python program to convert an array to an ordinary list with the same items.\n",
        "\n",
        "import numpy as np\n",
        "\n",
        "\n",
        "myarr = np.array([1, \"sh\", 4, True])\n",
        "\n",
        "print(myarr)\n",
        "print(myarr.dtype)\n",
        "\n",
        "mylist = myarr.tolist()\n",
        "\n",
        "print(mylist)\n",
        "print(type(mylist))\n"
      ]
    },
    {
      "cell_type": "code",
      "source": [
        "# Question 1:\n",
        "# Write a Python program to convert an array to an ordinary list with the same items.\n",
        "\n",
        "import numpy as np\n",
        "\n",
        "myarr = np.array([1, \"sh\", 4, True])\n",
        "\n",
        "mylist = []\n",
        "\n",
        "for i in myarr:\n",
        "  mylist.append(i)\n",
        "\n",
        "print(type(myarr))\n",
        "print(mylist)\n",
        "print(type(mylist))"
      ],
      "metadata": {
        "colab": {
          "base_uri": "https://localhost:8080/"
        },
        "id": "FeJrP6M-rZ7q",
        "outputId": "bc3750a8-1010-4be9-b031-744c6e966f2b"
      },
      "execution_count": null,
      "outputs": [
        {
          "output_type": "stream",
          "name": "stdout",
          "text": [
            "<class 'numpy.ndarray'>\n",
            "['1', 'sh', '4', 'True']\n",
            "<class 'list'>\n"
          ]
        }
      ]
    },
    {
      "cell_type": "code",
      "source": [
        "# Question 2 :\n",
        "# Write a NumPy program to compute the sum of the diagonal elements of a given array.\n",
        "# Hint: There are two possible methods to solve this problem: \n",
        "# 1 - Manually (without direct function). 2 - Using the trace function\n",
        "\n",
        "import numpy as np\n",
        "myarr = np.array([[1,2,3],[4,55,6],[2,30,2]])\n",
        "\n",
        "print(\"*my array is \",myarr)\n",
        "\n",
        "print(\"* the first way\")\n",
        "\n",
        "dia__of_myarr = np.diagonal(myarr)\n",
        "print(\"list of the elements of the diagonal \" ,dia__of_myarr)\n",
        "\n",
        "\n",
        "sum_of_dia = 0\n",
        "for i in dia__of_myarr:\n",
        "  sum_of_dia = sum_of_dia + i\n",
        "  \n",
        "print(\"sum of the diagonal is \",sum_of_dia)\n",
        "\n",
        "print(\"* the second way \")\n",
        "trace_myarr = np.trace(myarr)\n",
        "print(\"sum of the diagonal is \",trace_myarr)\n"
      ],
      "metadata": {
        "colab": {
          "base_uri": "https://localhost:8080/"
        },
        "id": "M_lGjh5Ps0uY",
        "outputId": "51877c93-7937-4faf-c158-22b7150185f1"
      },
      "execution_count": null,
      "outputs": [
        {
          "output_type": "stream",
          "name": "stdout",
          "text": [
            "*my array is  [[ 1  2  3]\n",
            " [ 4 55  6]\n",
            " [ 2 30  2]]\n",
            "* the first way\n",
            "list of the elements of the diagonal  [ 1 55  2]\n",
            "sum of the diagonal is  58\n",
            "* the second way \n",
            "sum of the diagonal is  58\n"
          ]
        }
      ]
    },
    {
      "cell_type": "code",
      "source": [
        "# Question 3 :\n",
        "# Given an array of your choice, get all the values higher than X:\n",
        "# If a = [[1,2],[3,5]] and x = 2 :  then 3 and 5 are higher than 2. \n",
        "\n",
        "import numpy as np\n",
        "\n",
        "a = [[1,2],[3,5]]\n",
        "\n",
        "for i in a:\n",
        "  for b in i:\n",
        "    if b > 2:\n",
        "      print(b)"
      ],
      "metadata": {
        "colab": {
          "base_uri": "https://localhost:8080/"
        },
        "id": "jPGBuQP_xFO4",
        "outputId": "5874234c-eb8b-4dea-e891-966a1ea3f6c1"
      },
      "execution_count": null,
      "outputs": [
        {
          "output_type": "stream",
          "name": "stdout",
          "text": [
            "3\n",
            "5\n"
          ]
        }
      ]
    },
    {
      "cell_type": "code",
      "source": [
        "# Question 4 :\n",
        "# Given two arrays, A & B have the same shape. \n",
        "# The task is to apply addition by hand: C is the new array. \n",
        "\n",
        "import numpy as np\n",
        "\n",
        "A = np.array([[20, 30],[15, 4]])\n",
        "\n",
        "B = np.array([[2,6], [8, 9]])\n",
        "\n",
        "print(\"* the first way\")\n",
        "\n",
        "C = A + B\n",
        "print(C)\n",
        "\n",
        "print(\"* the second way\")\n",
        "\n",
        "C = np.add(A,B)\n",
        "print(C)"
      ],
      "metadata": {
        "colab": {
          "base_uri": "https://localhost:8080/"
        },
        "id": "frPoHVhVyEsO",
        "outputId": "0747302c-99f8-4c0b-9fdf-83c461a83ef8"
      },
      "execution_count": null,
      "outputs": [
        {
          "output_type": "stream",
          "name": "stdout",
          "text": [
            "* the first way\n",
            "[[22 36]\n",
            " [23 13]]\n",
            "* the second way\n",
            "[[22 36]\n",
            " [23 13]]\n"
          ]
        }
      ]
    },
    {
      "cell_type": "code",
      "source": [
        "# Question 5 :\n",
        "# Write a NumPy program to subtract the mean of each row of a given matrix.\n",
        "# Hint: use the mean function\n",
        "\n",
        "import numpy as np\n",
        "\n",
        "a = np.array([33, 2, 11, 45, 8])\n",
        "\n",
        "print(\"* the first way \")\n",
        "mean_of_a = np.mean(a)\n",
        "print(mean_of_a)\n",
        "\n",
        "for i in a:\n",
        "  sub = i - mean_of_a\n",
        "  print(sub)\n",
        "\n",
        "print(\"* the second way \")\n",
        "b = a.tolist()\n",
        "sum = 0\n",
        "for i in b:\n",
        "  sum = sum + i\n",
        "mean_of_b = sum / len(b)\n",
        "print(mean_of_b)\n",
        "for i in b:\n",
        "  sub = i - mean_of_a\n",
        "  print(sub)"
      ],
      "metadata": {
        "colab": {
          "base_uri": "https://localhost:8080/"
        },
        "id": "zJZkZ_PP0nWI",
        "outputId": "09c38a3c-db6d-48cc-c469-966d86c93016"
      },
      "execution_count": null,
      "outputs": [
        {
          "output_type": "stream",
          "name": "stdout",
          "text": [
            "* the first way \n",
            "19.8\n",
            "13.2\n",
            "-17.8\n",
            "-8.8\n",
            "25.2\n",
            "-11.8\n",
            "* the second way \n",
            "19.8\n",
            "13.2\n",
            "-17.8\n",
            "-8.8\n",
            "25.2\n",
            "-11.8\n"
          ]
        }
      ]
    }
  ]
}