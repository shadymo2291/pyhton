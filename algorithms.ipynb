{
 "cells": [
  {
   "cell_type": "code",
   "execution_count": null,
   "id": "a799f166",
   "metadata": {},
   "outputs": [],
   "source": [
    "def binary_search(sequence, item): #[10,20,30,40,50,60,70,80,90] , 20\n",
    "    begin_index = 0\n",
    "    end_index = len(sequence) - 1\n",
    "\n",
    "    while begin_index <= end_index:\n",
    "        midpoint = begin_index + (end_index - begin_index) // 2 #0+(3-0)//2\n",
    "        midpoint_value = sequence[midpoint]\n",
    "        if midpoint_value == item:\n",
    "            return midpoint\n",
    "\n",
    "        elif item < midpoint_value:\n",
    "            end_index = midpoint - 1\n",
    "\n",
    "        else:\n",
    "            begin_index = midpoint + 1\n",
    "\n",
    "    return \"False not found\"\n",
    "\n",
    "sequence_a = [1,2,3,5,8]\n",
    "item_a = 6\n",
    "sequence_b = [1,2,3,5,8]\n",
    "item_b = 5\n",
    "\n",
    "print(binary_search(sequence_a, item_a),\"\\n\")\n",
    "print(binary_search(sequence_b, item_b))"
   ]
  },
  {
   "cell_type": "code",
   "execution_count": 7,
   "id": "71eaf1a7",
   "metadata": {},
   "outputs": [
    {
     "name": "stdout",
     "output_type": "stream",
     "text": [
      "5\n",
      "8\n",
      "9\n"
     ]
    },
    {
     "data": {
      "text/plain": [
       "'k is found'"
      ]
     },
     "execution_count": 7,
     "metadata": {},
     "output_type": "execute_result"
    }
   ],
   "source": [
    "def binary_search1(seq, begin, end, item):\n",
    "    if end >= begin:\n",
    "        mid = begin + (end - begin)//2\n",
    "        print(mid)\n",
    "        if seq[mid] == item:\n",
    "            return 'k is found'\n",
    "        elif seq[mid] > item:\n",
    "            return binary_search1(seq, begin, mid-1, item)\n",
    "        else:\n",
    "            return binary_search1(seq, mid+1, end,item)\n",
    "    else:\n",
    "        return 'k is not found'\n",
    "seq=[1, 2, 7, 12, 28, 31, 40, 41, 42, 46, 59]\n",
    "item=46\n",
    "begin=0\n",
    "end=len(seq)-1\n",
    "binary_search1(seq,begin,end,item)"
   ]
  },
  {
   "cell_type": "code",
   "execution_count": 13,
   "id": "8d172518",
   "metadata": {},
   "outputs": [
    {
     "name": "stdout",
     "output_type": "stream",
     "text": [
      "[3, 6, 5, 1]\n",
      "[3, 5, 6, 1]\n",
      "[3, 5, 1, 6]\n",
      "[3, 5, 1, 6]\n",
      "[3, 1, 5, 6]\n",
      "[3, 1, 5, 6]\n",
      "[1, 3, 5, 6]\n",
      "[1, 3, 5, 6]\n",
      "[1, 3, 5, 6]\n",
      "[1, 3, 5, 6]\n",
      "[1, 3, 5, 6]\n",
      "[1, 3, 5, 6]\n"
     ]
    }
   ],
   "source": [
    "x = [6,3,5,1]\n",
    "for i in range(len(x)):\n",
    "    for i in range(len(x)-1):\n",
    "        if x[i] >  x[i+1]:\n",
    "            x[i],x[i+1] = x[i+1],x[i]\n",
    "        print(x)"
   ]
  },
  {
   "cell_type": "code",
   "execution_count": 15,
   "id": "99c1b2a7",
   "metadata": {},
   "outputs": [
    {
     "name": "stdout",
     "output_type": "stream",
     "text": [
      "[13, 13, 22, 37, 52, 49, 46, 71, 56]\n"
     ]
    }
   ],
   "source": [
    "def mergeSort(liss):\n",
    "    if len(liss) > 1:\n",
    "        mid = len(liss) // 2\n",
    "        left_list=liss[:mid]\n",
    "        right_list=liss[mid:]\n",
    "\n",
    "        mergeSort(left_list)\n",
    "        mergeSort(right_list)\n",
    "        i = 0\n",
    "        j = 0\n",
    "        k = 0\n",
    "        while i < len(left_list) and j < len(right_list):\n",
    "            if left_list[i] <= right_list[j]:\n",
    "                liss[k] = left_list[i]\n",
    "                i += 1\n",
    "            else:\n",
    "                liss[k] = right_list[j]\n",
    "                j += 1\n",
    "            k += 1\n",
    "\n",
    "\n",
    "        while i < len(left_list):\n",
    "            liss[k] = left_list[i]\n",
    "            i += 1\n",
    "            k += 1\n",
    "        while j < len(right_list):\n",
    "            liss[k] = right_list[j]\n",
    "            j += 1\n",
    "            k += 1\n",
    "\n",
    "\n",
    "\n",
    "\n",
    "myList = [29,13,22,37,52,49,46,71,56]\n",
    "mergeSort(myList)\n",
    "print(myList)"
   ]
  },
  {
   "cell_type": "code",
   "execution_count": null,
   "id": "e0cb036e",
   "metadata": {},
   "outputs": [],
   "source": [
    "def quick_sort(sequence):\n",
    "    length = len(sequence)\n",
    "    if length <= 1:\n",
    "        return sequence\n",
    "    else :\n",
    "        pivot = sequence.pop()\n",
    "    items_greater = []\n",
    "    items_lower = []\n",
    "    for items in sequence:\n",
    "        if items > pivot:\n",
    "            items_greater.append(items)\n",
    "        else:\n",
    "            items_lower.append(items)\n",
    "    return quick_sort(items_lower) + [pivot] + quick_sort(items_greater)\n",
    "x = [29,13,22,37,52,49,46,71,56]\n",
    "print(quick_sort(x))"
   ]
  },
  {
   "cell_type": "code",
   "execution_count": null,
   "id": "0fc49c03",
   "metadata": {},
   "outputs": [],
   "source": []
  }
 ],
 "metadata": {
  "kernelspec": {
   "display_name": "Python 3",
   "language": "python",
   "name": "python3"
  },
  "language_info": {
   "codemirror_mode": {
    "name": "ipython",
    "version": 3
   },
   "file_extension": ".py",
   "mimetype": "text/x-python",
   "name": "python",
   "nbconvert_exporter": "python",
   "pygments_lexer": "ipython3",
   "version": "3.8.8"
  }
 },
 "nbformat": 4,
 "nbformat_minor": 5
}
